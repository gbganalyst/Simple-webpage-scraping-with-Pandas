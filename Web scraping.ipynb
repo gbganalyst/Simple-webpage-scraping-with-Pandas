{
 "cells": [
  {
   "cell_type": "markdown",
   "metadata": {},
   "source": [
    "# Web scraping with Pandas read_html()\n",
    "\n",
    "Python's libraries such as Beautiful Soup, Selenium, etc. can be used for webpage scraping. In this article, we will be using `pandas.read_html()` to scrape the list of final candidates that are qualified to attend [Data Science Nigeria (DSN)](https://www.datasciencenigeria.org/) all expense paid boot camp 2019. Information about **Staff Promotion Algorithm** challenge can be found on [Kaggle](https://www.kaggle.com/c/intercampusai2019).\n"
   ]
  },
  {
   "cell_type": "markdown",
   "metadata": {},
   "source": [
    "### Import libraries"
   ]
  },
  {
   "cell_type": "code",
   "execution_count": 1,
   "metadata": {},
   "outputs": [],
   "source": [
    "import pandas as pd\n",
    "import numpy as np"
   ]
  },
  {
   "cell_type": "markdown",
   "metadata": {},
   "source": [
    "We want to scrape 2019 ARTIFICIAL INTELLIGENCE BOOTCAMP – FINAL CANDIDATES table on [DSN website](https://www.datasciencenigeria.org/2019candidates)"
   ]
  },
  {
   "cell_type": "code",
   "execution_count": 2,
   "metadata": {},
   "outputs": [],
   "source": [
    "url = \"https://www.datasciencenigeria.org/2019candidates\""
   ]
  },
  {
   "cell_type": "code",
   "execution_count": 3,
   "metadata": {},
   "outputs": [],
   "source": [
    "table = pd.read_html(url, header= 0)"
   ]
  },
  {
   "cell_type": "markdown",
   "metadata": {},
   "source": [
    "`pd.read_html()` reads HTML tables into a **list** of **DataFrame** objects."
   ]
  },
  {
   "cell_type": "code",
   "execution_count": 4,
   "metadata": {},
   "outputs": [
    {
     "data": {
      "text/plain": [
       "list"
      ]
     },
     "execution_count": 4,
     "metadata": {},
     "output_type": "execute_result"
    }
   ],
   "source": [
    "type(table)"
   ]
  },
  {
   "cell_type": "markdown",
   "metadata": {},
   "source": [
    "As you can see the table is a list of dataframe object. Let's see what variable `table` is holding."
   ]
  },
  {
   "cell_type": "code",
   "execution_count": 5,
   "metadata": {},
   "outputs": [
    {
     "name": "stdout",
     "output_type": "stream",
     "text": [
      "[     S/N                      Full Name DSN Registration No  \\\n",
      "0      1            Yakubu Jafar Ahmadu   DSN/AIB/2019/R001   \n",
      "1      2                  Kazeem Hakeem   DSN/AIB/2019/R002   \n",
      "2      3            Oshingbesan Adebayo   DSN/AIB/2019/R003   \n",
      "3      4                Ibrahim Olagoke   DSN/AIB/2019/R004   \n",
      "4      5                   Sarah Adigwe   DSN/AIB/2019/R006   \n",
      "5      6                  Onuoha Obinna   DSN/AIB/2019/R007   \n",
      "6      7            Uwem Akan Nkereuwem   DSN/AIB/2019/R008   \n",
      "7      8       Nwaobasi Ifeanyi Anthony   DSN/AIB/2019/R009   \n",
      "8      9                         Dunsin   DSN/AIB/2019/R010   \n",
      "9     10     Demehin Ibukunoluwa George   DSN/AIB/2019/R011   \n",
      "10    11            Raheem Ridwan Lekan   DSN/AIB/2019/R012   \n",
      "11    12      Abdullahi Adinoyi Ibrahim   DSN/AIB/2019/R013   \n",
      "12    13     Muhammed Mujitaba Muhammed   DSN/AIB/2019/R015   \n",
      "13    14                 Edward Olayemi   DSN/AIB/2019/R016   \n",
      "14    15     Oyelami Favour Fiyinfoluwa   DSN/AIB/2019/R017   \n",
      "15    16        Adepoju Odunayo Gabriel   DSN/AIB/2019/R018   \n",
      "16    17                     Alake Edah   DSN/AIB/2019/R019   \n",
      "17    18             Oluwatobi Ogunbayo   DSN/AIB/2019/R021   \n",
      "18    19                 Olokun Ademola   DSN/AIB/2019/R023   \n",
      "19    20                Evbodaghe David   DSN/AIB/2019/R024   \n",
      "20    21      Izuchukwu Stanley Uchegbu   DSN/AIB/2019/R025   \n",
      "21    22                 Nelson Ogbeide   DSN/AIB/2019/R026   \n",
      "22    23     Abiode Christian Sylvester   DSN/AIB/2019/R028   \n",
      "23    24           Agbi Blessing Itohan   DSN/AIB/2019/R029   \n",
      "24    25                 Igboko Comfort   DSN/AIB/2019/R030   \n",
      "25    26            Ese Judith Elenbalu   DSN/AIB/2019/R035   \n",
      "26    27                   Osagie Glory   DSN/AIB/2019/R036   \n",
      "27    28               Cadeton Precious   DSN/AIB/2019/R037   \n",
      "28    29                  John Babatola   DSN/AIB/2019/R038   \n",
      "29    30                       Al-Ameen   DSN/AIB/2019/R039   \n",
      "..   ...                            ...                 ...   \n",
      "198  199                   Faruq Ahmad,  DSN/AIB/2019/SP018   \n",
      "199  200    Temitope Beloved Olamilekan  DSN/AIB/2019/SP019   \n",
      "200  201      Njemuwa Victor Chinemerem  DSN/AIB/2019/SP020   \n",
      "201  202               Inaolaji Micheal  DSN/AIB/2019/SP021   \n",
      "202  203              Kenneth Istifanus  DSN/AIB/2019/SP022   \n",
      "203  204             Oluwaloni Emmanuel  DSN/AIB/2019/SP023   \n",
      "204  205         Alaro Abubakar Olayemi  DSN/AIB/2019/SP024   \n",
      "205  206                   Silas Godwin  DSN/AIB/2019/SP025   \n",
      "206  207       Idris Abdulkadir Dangana  DSN/AIB/2019/SP026   \n",
      "207  208        Nnachor Ugochukwu Peter  DSN/AIB/2019/SP027   \n",
      "208  209              ShuAIBu Alexander  DSN/AIB/2019/SP028   \n",
      "209  210                Nwobodo Leonard  DSN/AIB/2019/SP029   \n",
      "210  211                 Dorcas Olajide  DSN/AIB/2019/EF267   \n",
      "211  212                  Taiwo Owoseni  DSN/AIB/2019/EF285   \n",
      "212  213                 Opeyemi Seriki  DSN/AIB/2019/EF299   \n",
      "213  214       Akinremi Bunmi Josephine  DSN/AIB/2019/EF312   \n",
      "214  215            Popoola Blessing O.  DSN/AIB/2019/EF323   \n",
      "215  216              Damilola Ogunlade  DSN/AIB/2019/EF326   \n",
      "216  217        Oriji Sandra Onyinyechi  DSN/AIB/2019/EF333   \n",
      "217  218               Okorie Oluchukwu  DSN/AIB/2019/EF358   \n",
      "218  219             Mofetoluwa Adeyemi  DSN/AIB/2019/EF362   \n",
      "219  220                 Ajibola Ladoja  DSN/AIB/2019/EF371   \n",
      "220  221                    Abu Cynthia  DSN/AIB/2019/EF399   \n",
      "221  222                    Mary SALAMI  DSN/AIB/2019/EF414   \n",
      "222  223                 Esotu Chimaoge  DSN/AIB/2019/EF419   \n",
      "223  224              Odubela Oluwatobi  DSN/AIB/2019/EF420   \n",
      "224  225                  Joy Nwachukwu  DSN/AIB/2019/EF423   \n",
      "225  226                Memunat Ibrahim  DSN/AIB/2019/EF467   \n",
      "226  227             Ezefili Prisca Joy  DSN/AIB/2019/EF500   \n",
      "227  228  Chinazo Marykyrian Anebelundu  DSN/AIB/2019/EF508   \n",
      "\n",
      "                                      School/Workplace  \n",
      "0                       Ahmadu Bello University, Zaria  \n",
      "1                                    Crown Interactive  \n",
      "2                                                  NaN  \n",
      "3                                               Tissec  \n",
      "4    Ladoke Akintola University Of Technology, Ogbo...  \n",
      "5    Michael Okpara University Of Agricultural Umudike  \n",
      "6                     Nhub Nigeria, Jos, Plateau State  \n",
      "7                                Susej Nigeria Limited  \n",
      "8                  Obafemi Awolowo University, Ile-Ife  \n",
      "9                                          SBA Nigeria  \n",
      "10                                   RGS Worldwide Ltd  \n",
      "11                               Baze University Abuja  \n",
      "12                      Ahmadu Bello University, Zaria  \n",
      "13                             Octave Analytics, Lagos  \n",
      "14                                University Of Ibadan  \n",
      "15   Ladoke Akintola University Of Technology, Ogbo...  \n",
      "16                                 University Of Lagos  \n",
      "17                 Obafemi Awolowo University, Ile-Ife  \n",
      "18   Ladoke Akintola University Of Technology, Ogbo...  \n",
      "19                                 University Of Lagos  \n",
      "20                                 University Of Lagos  \n",
      "21                     Ambrose Alli University, Ekpoma  \n",
      "22                     Ambrose Alli University, Ekpoma  \n",
      "23                     Ambrose Alli University, Ekpoma  \n",
      "24                     Ambrose Alli University, Ekpoma  \n",
      "25                     Ambrose Alli University, Ekpoma  \n",
      "26                     Ambrose Alli University, Ekpoma  \n",
      "27                     Ambrose Alli University, Ekpoma  \n",
      "28                                 University Of Lagos  \n",
      "29                                 University Of Lagos  \n",
      "..                                                 ...  \n",
      "198                             Bayero University Kano  \n",
      "199        Federal University Of Agriculture, Abeokuta  \n",
      "200  Michael Okpara University Of Agricultural Umudike  \n",
      "201                            NYSC Jos (Corps Member)  \n",
      "202            Federal University Of Technology, Minna  \n",
      "203                       Federal University Oye Ekiti  \n",
      "204                               University Of Ilorin  \n",
      "205                    Ambrose Alli University, Ekpoma  \n",
      "206                                           Ai+ Kano  \n",
      "207                                University Of Benin  \n",
      "208            Federal University Of Technology, Akure  \n",
      "209   Enugu State University Of Science And Technology  \n",
      "210                Obafemi Awolowo University, Ile-Ife  \n",
      "211                                   CCHub/Dev Career  \n",
      "212                                University Of Benin  \n",
      "213                Obafemi Awolowo University, Ile-Ife  \n",
      "214  Ladoke Akintola University Of Technology, Ogbo...  \n",
      "215  Ladoke Akintola University Of Technology, Ogbo...  \n",
      "216                        Riabisel Education Services  \n",
      "217        Enugu State Teaching Hospital,Parklaneenugu  \n",
      "218                                                NaN  \n",
      "219                                        MTN Nigeria  \n",
      "220                                University Of Benin  \n",
      "221                Obafemi Awolowo University, Ile-Ife  \n",
      "222                           Vaskin Resources Nig Ltd  \n",
      "223                                University Of Lagos  \n",
      "224                                            Mpharma  \n",
      "225                        Multiskills Nigeria Limited  \n",
      "226             Federal University, Lokoja, Kogi State  \n",
      "227                                                NaN  \n",
      "\n",
      "[228 rows x 4 columns]]\n"
     ]
    }
   ],
   "source": [
    "print(table)"
   ]
  },
  {
   "cell_type": "markdown",
   "metadata": {},
   "source": [
    "If the web page has many tables, `pd.read_html()` return all the tables. Let's check the number of tables that `pd.read_html()` return in the DSN web page."
   ]
  },
  {
   "cell_type": "code",
   "execution_count": 6,
   "metadata": {},
   "outputs": [
    {
     "data": {
      "text/plain": [
       "1"
      ]
     },
     "execution_count": 6,
     "metadata": {},
     "output_type": "execute_result"
    }
   ],
   "source": [
    "len(table)"
   ]
  },
  {
   "cell_type": "markdown",
   "metadata": {},
   "source": [
    "Good! It returns only one table. Remember DSN web page has only one table. We need to convert this `list of Dataframe` to `Pandas DataFrame`."
   ]
  },
  {
   "cell_type": "code",
   "execution_count": 7,
   "metadata": {},
   "outputs": [
    {
     "data": {
      "text/html": [
       "<div>\n",
       "<style scoped>\n",
       "    .dataframe tbody tr th:only-of-type {\n",
       "        vertical-align: middle;\n",
       "    }\n",
       "\n",
       "    .dataframe tbody tr th {\n",
       "        vertical-align: top;\n",
       "    }\n",
       "\n",
       "    .dataframe thead th {\n",
       "        text-align: right;\n",
       "    }\n",
       "</style>\n",
       "<table border=\"1\" class=\"dataframe\">\n",
       "  <thead>\n",
       "    <tr style=\"text-align: right;\">\n",
       "      <th></th>\n",
       "      <th>S/N</th>\n",
       "      <th>Full Name</th>\n",
       "      <th>DSN Registration No</th>\n",
       "      <th>School/Workplace</th>\n",
       "    </tr>\n",
       "  </thead>\n",
       "  <tbody>\n",
       "    <tr>\n",
       "      <th>0</th>\n",
       "      <td>1</td>\n",
       "      <td>Yakubu Jafar Ahmadu</td>\n",
       "      <td>DSN/AIB/2019/R001</td>\n",
       "      <td>Ahmadu Bello University, Zaria</td>\n",
       "    </tr>\n",
       "    <tr>\n",
       "      <th>1</th>\n",
       "      <td>2</td>\n",
       "      <td>Kazeem Hakeem</td>\n",
       "      <td>DSN/AIB/2019/R002</td>\n",
       "      <td>Crown Interactive</td>\n",
       "    </tr>\n",
       "    <tr>\n",
       "      <th>2</th>\n",
       "      <td>3</td>\n",
       "      <td>Oshingbesan Adebayo</td>\n",
       "      <td>DSN/AIB/2019/R003</td>\n",
       "      <td>NaN</td>\n",
       "    </tr>\n",
       "    <tr>\n",
       "      <th>3</th>\n",
       "      <td>4</td>\n",
       "      <td>Ibrahim Olagoke</td>\n",
       "      <td>DSN/AIB/2019/R004</td>\n",
       "      <td>Tissec</td>\n",
       "    </tr>\n",
       "    <tr>\n",
       "      <th>4</th>\n",
       "      <td>5</td>\n",
       "      <td>Sarah Adigwe</td>\n",
       "      <td>DSN/AIB/2019/R006</td>\n",
       "      <td>Ladoke Akintola University Of Technology, Ogbo...</td>\n",
       "    </tr>\n",
       "  </tbody>\n",
       "</table>\n",
       "</div>"
      ],
      "text/plain": [
       "   S/N            Full Name DSN Registration No  \\\n",
       "0    1  Yakubu Jafar Ahmadu   DSN/AIB/2019/R001   \n",
       "1    2        Kazeem Hakeem   DSN/AIB/2019/R002   \n",
       "2    3  Oshingbesan Adebayo   DSN/AIB/2019/R003   \n",
       "3    4      Ibrahim Olagoke   DSN/AIB/2019/R004   \n",
       "4    5         Sarah Adigwe   DSN/AIB/2019/R006   \n",
       "\n",
       "                                    School/Workplace  \n",
       "0                     Ahmadu Bello University, Zaria  \n",
       "1                                  Crown Interactive  \n",
       "2                                                NaN  \n",
       "3                                             Tissec  \n",
       "4  Ladoke Akintola University Of Technology, Ogbo...  "
      ]
     },
     "execution_count": 7,
     "metadata": {},
     "output_type": "execute_result"
    }
   ],
   "source": [
    "data = pd.DataFrame(table[0]) \n",
    "data.head()"
   ]
  },
  {
   "cell_type": "code",
   "execution_count": 8,
   "metadata": {},
   "outputs": [
    {
     "data": {
      "text/plain": [
       "(228, 4)"
      ]
     },
     "execution_count": 8,
     "metadata": {},
     "output_type": "execute_result"
    }
   ],
   "source": [
    "data.shape"
   ]
  },
  {
   "cell_type": "markdown",
   "metadata": {},
   "source": [
    "This means that DSN only selected 228 candidates that will attend 2019 ARTIFICIAL INTELLIGENCE BOOTCAMP!"
   ]
  },
  {
   "cell_type": "markdown",
   "metadata": {},
   "source": [
    "### List of institutions well represented in the DSN boot camp"
   ]
  },
  {
   "cell_type": "code",
   "execution_count": 9,
   "metadata": {},
   "outputs": [
    {
     "data": {
      "text/html": [
       "<div>\n",
       "<style scoped>\n",
       "    .dataframe tbody tr th:only-of-type {\n",
       "        vertical-align: middle;\n",
       "    }\n",
       "\n",
       "    .dataframe tbody tr th {\n",
       "        vertical-align: top;\n",
       "    }\n",
       "\n",
       "    .dataframe thead th {\n",
       "        text-align: right;\n",
       "    }\n",
       "</style>\n",
       "<table border=\"1\" class=\"dataframe\">\n",
       "  <thead>\n",
       "    <tr style=\"text-align: right;\">\n",
       "      <th></th>\n",
       "      <th>School/Workplace</th>\n",
       "    </tr>\n",
       "  </thead>\n",
       "  <tbody>\n",
       "    <tr>\n",
       "      <th>University Of Lagos</th>\n",
       "      <td>28</td>\n",
       "    </tr>\n",
       "    <tr>\n",
       "      <th>Obafemi Awolowo University, Ile-Ife</th>\n",
       "      <td>22</td>\n",
       "    </tr>\n",
       "    <tr>\n",
       "      <th>Ladoke Akintola University Of Technology, Ogbomoso</th>\n",
       "      <td>16</td>\n",
       "    </tr>\n",
       "    <tr>\n",
       "      <th>Ambrose Alli University, Ekpoma</th>\n",
       "      <td>15</td>\n",
       "    </tr>\n",
       "    <tr>\n",
       "      <th>University Of Ibadan</th>\n",
       "      <td>14</td>\n",
       "    </tr>\n",
       "    <tr>\n",
       "      <th>University Of Benin</th>\n",
       "      <td>6</td>\n",
       "    </tr>\n",
       "    <tr>\n",
       "      <th>Federal University Of Technology, Akure</th>\n",
       "      <td>5</td>\n",
       "    </tr>\n",
       "    <tr>\n",
       "      <th>Federal University Of Agriculture, Abeokuta</th>\n",
       "      <td>4</td>\n",
       "    </tr>\n",
       "    <tr>\n",
       "      <th>Federal University Of Technology, Minna</th>\n",
       "      <td>4</td>\n",
       "    </tr>\n",
       "    <tr>\n",
       "      <th>Lagos State University, Ojo</th>\n",
       "      <td>4</td>\n",
       "    </tr>\n",
       "    <tr>\n",
       "      <th>Nigeria Police Academy Wudil</th>\n",
       "      <td>4</td>\n",
       "    </tr>\n",
       "    <tr>\n",
       "      <th>Ekiti State University</th>\n",
       "      <td>3</td>\n",
       "    </tr>\n",
       "    <tr>\n",
       "      <th>Michael Okpara University Of Agricultural Umudike</th>\n",
       "      <td>3</td>\n",
       "    </tr>\n",
       "    <tr>\n",
       "      <th>Olabisi Onabanjo University, Ago Iwoye</th>\n",
       "      <td>3</td>\n",
       "    </tr>\n",
       "    <tr>\n",
       "      <th>Federal University Oye Ekiti</th>\n",
       "      <td>3</td>\n",
       "    </tr>\n",
       "    <tr>\n",
       "      <th>Federal University Of Technology, Owerri</th>\n",
       "      <td>3</td>\n",
       "    </tr>\n",
       "    <tr>\n",
       "      <th>Enugu State University Of Science And Technology</th>\n",
       "      <td>3</td>\n",
       "    </tr>\n",
       "    <tr>\n",
       "      <th>Bayero University Kano</th>\n",
       "      <td>2</td>\n",
       "    </tr>\n",
       "    <tr>\n",
       "      <th>Nhub Nigeria, Jos, Plateau State</th>\n",
       "      <td>2</td>\n",
       "    </tr>\n",
       "    <tr>\n",
       "      <th>Freelancer</th>\n",
       "      <td>2</td>\n",
       "    </tr>\n",
       "    <tr>\n",
       "      <th>Ahmadu Bello University, Zaria</th>\n",
       "      <td>2</td>\n",
       "    </tr>\n",
       "    <tr>\n",
       "      <th>University Of Ilorin</th>\n",
       "      <td>2</td>\n",
       "    </tr>\n",
       "    <tr>\n",
       "      <th>Nnamdi Azikiwe University, Awka</th>\n",
       "      <td>2</td>\n",
       "    </tr>\n",
       "    <tr>\n",
       "      <th>Hiace System Limited</th>\n",
       "      <td>2</td>\n",
       "    </tr>\n",
       "    <tr>\n",
       "      <th>NYSC Jos (Corps Member)</th>\n",
       "      <td>2</td>\n",
       "    </tr>\n",
       "    <tr>\n",
       "      <th>Multiskills Nigeria Limited</th>\n",
       "      <td>2</td>\n",
       "    </tr>\n",
       "    <tr>\n",
       "      <th>Colab Kaduna</th>\n",
       "      <td>2</td>\n",
       "    </tr>\n",
       "    <tr>\n",
       "      <th>Plankton NIG</th>\n",
       "      <td>1</td>\n",
       "    </tr>\n",
       "    <tr>\n",
       "      <th>The Polytechnic Ibadan, Oyo State.</th>\n",
       "      <td>1</td>\n",
       "    </tr>\n",
       "    <tr>\n",
       "      <th>SBA Nigeria</th>\n",
       "      <td>1</td>\n",
       "    </tr>\n",
       "    <tr>\n",
       "      <th>...</th>\n",
       "      <td>...</td>\n",
       "    </tr>\n",
       "    <tr>\n",
       "      <th>Telnet Nigeria Limited</th>\n",
       "      <td>1</td>\n",
       "    </tr>\n",
       "    <tr>\n",
       "      <th>Ecumenical Technology</th>\n",
       "      <td>1</td>\n",
       "    </tr>\n",
       "    <tr>\n",
       "      <th>Trinity Home College</th>\n",
       "      <td>1</td>\n",
       "    </tr>\n",
       "    <tr>\n",
       "      <th>Brainiacs STEM And Robotics</th>\n",
       "      <td>1</td>\n",
       "    </tr>\n",
       "    <tr>\n",
       "      <th>Ai+ Kano</th>\n",
       "      <td>1</td>\n",
       "    </tr>\n",
       "    <tr>\n",
       "      <th>Ecobank</th>\n",
       "      <td>1</td>\n",
       "    </tr>\n",
       "    <tr>\n",
       "      <th>Federal University Of Technology Owerri</th>\n",
       "      <td>1</td>\n",
       "    </tr>\n",
       "    <tr>\n",
       "      <th>Riabisel Education Services</th>\n",
       "      <td>1</td>\n",
       "    </tr>\n",
       "    <tr>\n",
       "      <th>Beiersdorf</th>\n",
       "      <td>1</td>\n",
       "    </tr>\n",
       "    <tr>\n",
       "      <th>CCHub/Dev Career</th>\n",
       "      <td>1</td>\n",
       "    </tr>\n",
       "    <tr>\n",
       "      <th>Octave Analytics, Lagos</th>\n",
       "      <td>1</td>\n",
       "    </tr>\n",
       "    <tr>\n",
       "      <th>IHS Towers Nigeria Ltd</th>\n",
       "      <td>1</td>\n",
       "    </tr>\n",
       "    <tr>\n",
       "      <th>RenMoney</th>\n",
       "      <td>1</td>\n",
       "    </tr>\n",
       "    <tr>\n",
       "      <th>Data Science Retreat,Berlin</th>\n",
       "      <td>1</td>\n",
       "    </tr>\n",
       "    <tr>\n",
       "      <th>Faculty Of Sciences, Moulay Ismail University</th>\n",
       "      <td>1</td>\n",
       "    </tr>\n",
       "    <tr>\n",
       "      <th>Singidunum University, Belgrade, Serbia</th>\n",
       "      <td>1</td>\n",
       "    </tr>\n",
       "    <tr>\n",
       "      <th>Susej Nigeria Limited</th>\n",
       "      <td>1</td>\n",
       "    </tr>\n",
       "    <tr>\n",
       "      <th>Faith Works Orphanage</th>\n",
       "      <td>1</td>\n",
       "    </tr>\n",
       "    <tr>\n",
       "      <th>Pucado AI</th>\n",
       "      <td>1</td>\n",
       "    </tr>\n",
       "    <tr>\n",
       "      <th>Startup Kano</th>\n",
       "      <td>1</td>\n",
       "    </tr>\n",
       "    <tr>\n",
       "      <th>Enugu State Teaching Hospital,Parklaneenugu</th>\n",
       "      <td>1</td>\n",
       "    </tr>\n",
       "    <tr>\n",
       "      <th>Di Hub Kano</th>\n",
       "      <td>1</td>\n",
       "    </tr>\n",
       "    <tr>\n",
       "      <th>Ilorin</th>\n",
       "      <td>1</td>\n",
       "    </tr>\n",
       "    <tr>\n",
       "      <th>MTN Nigeria</th>\n",
       "      <td>1</td>\n",
       "    </tr>\n",
       "    <tr>\n",
       "      <th>Ondo State Office Of Innovation And Partnerships(ION)</th>\n",
       "      <td>1</td>\n",
       "    </tr>\n",
       "    <tr>\n",
       "      <th>Ondo State Oil Producing Area Development Commission (OSOPADEC)</th>\n",
       "      <td>1</td>\n",
       "    </tr>\n",
       "    <tr>\n",
       "      <th>Bells University Of Technology, Otta</th>\n",
       "      <td>1</td>\n",
       "    </tr>\n",
       "    <tr>\n",
       "      <th>Crown Interactive</th>\n",
       "      <td>1</td>\n",
       "    </tr>\n",
       "    <tr>\n",
       "      <th>Mendu Health Partners</th>\n",
       "      <td>1</td>\n",
       "    </tr>\n",
       "    <tr>\n",
       "      <th>Upwork</th>\n",
       "      <td>1</td>\n",
       "    </tr>\n",
       "  </tbody>\n",
       "</table>\n",
       "<p>81 rows × 1 columns</p>\n",
       "</div>"
      ],
      "text/plain": [
       "                                                    School/Workplace\n",
       "University Of Lagos                                               28\n",
       "Obafemi Awolowo University, Ile-Ife                               22\n",
       "Ladoke Akintola University Of Technology, Ogbomoso                16\n",
       "Ambrose Alli University, Ekpoma                                   15\n",
       "University Of Ibadan                                              14\n",
       "University Of Benin                                                6\n",
       "Federal University Of Technology, Akure                            5\n",
       "Federal University Of Agriculture, Abeokuta                        4\n",
       "Federal University Of Technology, Minna                            4\n",
       "Lagos State University, Ojo                                        4\n",
       "Nigeria Police Academy Wudil                                       4\n",
       "Ekiti State University                                             3\n",
       "Michael Okpara University Of Agricultural Umudike                  3\n",
       "Olabisi Onabanjo University, Ago Iwoye                             3\n",
       "Federal University Oye Ekiti                                       3\n",
       "Federal University Of Technology, Owerri                           3\n",
       "Enugu State University Of Science And Technology                   3\n",
       "Bayero University Kano                                             2\n",
       "Nhub Nigeria, Jos, Plateau State                                   2\n",
       "Freelancer                                                         2\n",
       "Ahmadu Bello University, Zaria                                     2\n",
       "University Of Ilorin                                               2\n",
       "Nnamdi Azikiwe University, Awka                                    2\n",
       "Hiace System Limited                                               2\n",
       "NYSC Jos (Corps Member)                                            2\n",
       "Multiskills Nigeria Limited                                        2\n",
       "Colab Kaduna                                                       2\n",
       "Plankton NIG                                                       1\n",
       "The Polytechnic Ibadan, Oyo State.                                 1\n",
       "SBA Nigeria                                                        1\n",
       "...                                                              ...\n",
       "Telnet Nigeria Limited                                             1\n",
       "Ecumenical Technology                                              1\n",
       "Trinity Home College                                               1\n",
       "Brainiacs STEM And Robotics                                        1\n",
       "Ai+ Kano                                                           1\n",
       "Ecobank                                                            1\n",
       "Federal University Of Technology Owerri                            1\n",
       "Riabisel Education Services                                        1\n",
       "Beiersdorf                                                         1\n",
       "CCHub/Dev Career                                                   1\n",
       "Octave Analytics, Lagos                                            1\n",
       "IHS Towers Nigeria Ltd                                             1\n",
       "RenMoney                                                           1\n",
       "Data Science Retreat,Berlin                                        1\n",
       "Faculty Of Sciences, Moulay Ismail University                      1\n",
       "Singidunum University, Belgrade, Serbia                            1\n",
       "Susej Nigeria Limited                                              1\n",
       "Faith Works Orphanage                                              1\n",
       "Pucado AI                                                          1\n",
       "Startup Kano                                                       1\n",
       "Enugu State Teaching Hospital,Parklaneenugu                        1\n",
       "Di Hub Kano                                                        1\n",
       "Ilorin                                                             1\n",
       "MTN Nigeria                                                        1\n",
       "Ondo State Office Of Innovation And Partnership...                 1\n",
       "Ondo State Oil Producing Area Development Commi...                 1\n",
       "Bells University Of Technology, Otta                               1\n",
       "Crown Interactive                                                  1\n",
       "Mendu Health Partners                                              1\n",
       "Upwork                                                             1\n",
       "\n",
       "[81 rows x 1 columns]"
      ]
     },
     "execution_count": 9,
     "metadata": {},
     "output_type": "execute_result"
    }
   ],
   "source": [
    "data[\"School/Workplace\"].value_counts().to_frame()"
   ]
  },
  {
   "cell_type": "markdown",
   "metadata": {},
   "source": [
    "### List of top ten institutions well represented in the DSN boot camp"
   ]
  },
  {
   "cell_type": "markdown",
   "metadata": {},
   "source": [
    "We shall use matplotlib to visualize the top 10 institutions that are well represented in the DSN boot camp. Matplotlib is a statistical plotting library in python. It has beautiful default styles."
   ]
  },
  {
   "cell_type": "code",
   "execution_count": 10,
   "metadata": {},
   "outputs": [],
   "source": [
    "import matplotlib.pyplot as plt\n",
    "plt.style.use(\"seaborn\")"
   ]
  },
  {
   "cell_type": "code",
   "execution_count": 11,
   "metadata": {},
   "outputs": [],
   "source": [
    "top_10 = data[\"School/Workplace\"].value_counts().to_frame().\\\n",
    "nlargest(10, \"School/Workplace\")"
   ]
  },
  {
   "cell_type": "code",
   "execution_count": 12,
   "metadata": {},
   "outputs": [
    {
     "data": {
      "image/png": "[encoded data removed]",
      "text/plain": [
       "<Figure size 432x288 with 1 Axes>"
      ]
     },
     "metadata": {
      "needs_background": "light"
     },
     "output_type": "display_data"
    }
   ],
   "source": [
    "top_10.plot(kind = \"bar\")\n",
    "plt.legend(\"\")\n",
    "plt.ylabel(\"Number of participants\")\n",
    "plt.xlabel(\"Institutions\")\n",
    "plt.title(\"Top ten institutions well represented in the DSN boot camp\");"
   ]
  },
  {
   "cell_type": "markdown",
   "metadata": {},
   "source": [
    "It can be seen from the bar chart that University of Lagos has the highest representatives with 28 (13.08%) qualified candidates for DSN $2019$ bootcamp."
   ]
  }
 ],
 "metadata": {
  "kernelspec": {
   "display_name": "Python 3",
   "language": "python",
   "name": "python3"
  },
  "language_info": {
   "codemirror_mode": {
    "name": "ipython",
    "version": 3
   },
   "file_extension": ".py",
   "mimetype": "text/x-python",
   "name": "python",
   "nbconvert_exporter": "python",
   "pygments_lexer": "ipython3",
   "version": "3.7.1"
  }
 },
 "nbformat": 4,
 "nbformat_minor": 2
}
